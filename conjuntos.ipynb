{
 "cells": [
  {
   "cell_type": "markdown",
   "metadata": {},
   "source": [
    "# O que é conjunto em python?\n",
    "\n",
    "No Python podemos criar conjuntos de itens únicos e sem ordem especifica. Os conjuntos são definidos por ({}) 'chaves' , não possui pares, apenas valores.\n",
    "Os conjuntos são bem eficientes para verificar a presença de um item, pois garante que não haverá duplicatas.\n",
    "\n",
    "#### ORGANIZADA EM ORDEM SEQUENCIAL ❌\n",
    "#### MUTÁVEL ✅\n",
    "#### INDEXADA ❌\n",
    "#### ITERÁVEL ✅\n"
   ]
  },
  {
   "cell_type": "markdown",
   "metadata": {},
   "source": [
    "## Exemplo de conjunto\n",
    "\n",
    "`livrosNicholasSparks = {\"O desejo\", \"O retorno\", \"O melhor de mim\",\"O milagre\", \"A última música\", \"A escolha\", \"Um porto seguro\", \"Um homem de sorte\", \"Diario de uma paixão\", \"Noites de tormenta\", \"O guardião\",\"O milagre\"}`\n",
    "\n",
    "### Imprimindo o conjunto criado\n",
    "`print(livrosNicholasSparks)`\n",
    "\n",
    "### Imprimindo o tipo 'conjunto'\n",
    "`print(type(livrosNicholasSparks))`\n"
   ]
  },
  {
   "cell_type": "code",
   "execution_count": 1,
   "metadata": {},
   "outputs": [
    {
     "name": "stdout",
     "output_type": "stream",
     "text": [
      "{'Um homem de sorte', 'O desejo', 'A escolha', 'A última música', 'Um porto seguro', 'O retorno', 'O guardião', 'O milagre', 'Diario de uma paixão', 'O melhor de mim', 'Noites de tormenta'}\n",
      "<class 'set'>\n"
     ]
    }
   ],
   "source": [
    "livrosNicholasSparks = {\"O desejo\", \"O retorno\", \"O melhor de mim\",\"O milagre\", \"A última música\", \"A escolha\", \"Um porto seguro\", \"Um homem de sorte\", \"Diario de uma paixão\", \"Noites de tormenta\", \"O guardião\",\"O milagre\"}\n",
    "\n",
    "print(livrosNicholasSparks)\n",
    "print(type(livrosNicholasSparks))"
   ]
  },
  {
   "cell_type": "markdown",
   "metadata": {},
   "source": [
    "## Métodos utilizados em conjuntos"
   ]
  },
  {
   "cell_type": "markdown",
   "metadata": {},
   "source": [
    "### CLEAR\n",
    "#### Utilizamos esse método para apagar todos os itens de um conjunto"
   ]
  },
  {
   "cell_type": "code",
   "execution_count": null,
   "metadata": {},
   "outputs": [],
   "source": [
    "conj1 = {\"O milagre\", \"O guardiao\", \"Desejo\"}\n",
    "conj2 = {\"O guardiao\", \"Desejo\", \"O milagre\", \"A ultima musica\", \"Noites de tormenta\"}\n",
    "\n",
    "conj1.clear()\n",
    "\n",
    "print(conj1, conj2)"
   ]
  },
  {
   "cell_type": "markdown",
   "metadata": {},
   "source": [
    "### ISSUPERSET\n",
    "#### Utilizamos esse método para verificar se o primeiro conjunto possui todos os itens do segundo conjunto dentro de si"
   ]
  },
  {
   "cell_type": "code",
   "execution_count": null,
   "metadata": {},
   "outputs": [],
   "source": [
    "conj1 = {\"O milagre\", \"O guardiao\", \"Desejo\"}\n",
    "conj2 = {\"O guardiao\", \"Desejo\", \"O milagre\", \"A ultima musica\", \"Noites de tormenta\"}\n",
    "conj3 = conj1.issuperset(conj2)\n",
    "\n",
    "print(conj3)"
   ]
  },
  {
   "cell_type": "markdown",
   "metadata": {},
   "source": [
    "### ISSUBSET\n",
    "#### Utilizamos esse método para verificar se o segundo conjunto contém valores iguais ao que contém o primeiro conjunto (retorna como True ou False) "
   ]
  },
  {
   "cell_type": "code",
   "execution_count": null,
   "metadata": {},
   "outputs": [],
   "source": [
    "conj1 = {\"O milagre\", \"O guardiao\", \"Desejo\"}\n",
    "conj2 = {\"O guardiao\", \"Desejo\", \"O milagre\", \"A ultima musica\", \"Noites de tormenta\"}\n",
    "conj3 = conj1.issubset(conj2)\n",
    "\n",
    "print(conj3)"
   ]
  },
  {
   "cell_type": "markdown",
   "metadata": {},
   "source": [
    "### SYMMETRIC_DIFFERENCE\n",
    "#### Utilizamos esse método para retornar um conjunto que contenha valores com diferença simétrica entre os dois conjuntos, ou seja, ele irá comparar os itens de cada conjunto , e retonar os itens que não são iguais entre os dois conjuntos"
   ]
  },
  {
   "cell_type": "code",
   "execution_count": null,
   "metadata": {},
   "outputs": [],
   "source": [
    "conj1 = {\"O milagre\", \"O guardiao\", \"Desejo\"}\n",
    "conj2 = { \"Desejo\", \"O milagre\", \"A ultima musica\", \"Noites de tormenta\"}\n",
    "\n",
    "diferenca_simetrica = conj1.symmetric_difference(conj2)\n",
    "print(diferenca_simetrica)"
   ]
  },
  {
   "cell_type": "markdown",
   "metadata": {},
   "source": [
    "### DIFFERENCE\n",
    "#### Utilizamos esse método para retornar os itens que possui no primeiro conjunto, porém não se repete ao segundo conjunto"
   ]
  },
  {
   "cell_type": "code",
   "execution_count": null,
   "metadata": {},
   "outputs": [],
   "source": [
    "\n",
    "conj1 = {\"O milagre\", \"O guardiao\", \"Desejo\"}\n",
    "conj2 = { \"Desejo\", \"O milagre\", \"A ultima musica\", \"Noites de tormenta\"}\n",
    "\n",
    "diferenca = conj1.difference(conj2)\n",
    "print(diferenca)"
   ]
  },
  {
   "cell_type": "markdown",
   "metadata": {},
   "source": [
    "### INTERSECTION\n",
    "#### Utilizamos esse método para retornar um item que contém repetição em ambos os conjuntos"
   ]
  },
  {
   "cell_type": "code",
   "execution_count": null,
   "metadata": {},
   "outputs": [],
   "source": [
    "intersecao = livrosNicholasSparks.intersection(livrosJohnGreen)\n",
    "print(intersecao)"
   ]
  },
  {
   "cell_type": "markdown",
   "metadata": {},
   "source": [
    "### UNION\n",
    "#### Utilizamos esse método para unir dois conjuntos de forma aleatória"
   ]
  },
  {
   "cell_type": "code",
   "execution_count": null,
   "metadata": {},
   "outputs": [],
   "source": [
    "livrosJohnGreen = {\"A culpa é das estrelas\", \"Quem é voce Alasca?\", \"Will & Will\",\"O milagre\"}\n",
    "\n",
    "uniao = livrosNicholasSparks.union(livrosJohnGreen)\n",
    "print(uniao)"
   ]
  },
  {
   "cell_type": "markdown",
   "metadata": {},
   "source": [
    "### POP\n",
    "#### Utilizamos esse método para que seja removido um item de forma aleatória pois não podemos definir"
   ]
  },
  {
   "cell_type": "code",
   "execution_count": null,
   "metadata": {},
   "outputs": [],
   "source": [
    "livrosNicholasSparks.pop()\n",
    "print(livrosNicholasSparks)\n"
   ]
  },
  {
   "cell_type": "markdown",
   "metadata": {},
   "source": [
    "### DISCARD \n",
    "#### Utilizamos esse método para remover o item especificado do conjunto, caso não seja especificado um item que contenha no conjunto, ele não fará nada"
   ]
  },
  {
   "cell_type": "code",
   "execution_count": null,
   "metadata": {},
   "outputs": [],
   "source": [
    "livrosNicholasSparks.discard(\"test\")\n",
    "print(livrosNicholasSparks)"
   ]
  },
  {
   "cell_type": "markdown",
   "metadata": {},
   "source": [
    "### REMOVE\n",
    "#### Utilizamos esse método para remover o item especificado do conjunto, caso não seja especificado ele retornará um erro"
   ]
  },
  {
   "cell_type": "code",
   "execution_count": null,
   "metadata": {},
   "outputs": [],
   "source": [
    "livrosNicholasSparks.remove(\"O guardião\")\n",
    "print(livrosNicholasSparks)"
   ]
  },
  {
   "cell_type": "markdown",
   "metadata": {},
   "source": [
    "### ADD\n",
    "#### Utilizamos esse método para adicionar um novo item ao conjunto"
   ]
  },
  {
   "cell_type": "code",
   "execution_count": null,
   "metadata": {},
   "outputs": [],
   "source": [
    "livrosNicholasSparks.add(\"Um amor para recordar\")\n",
    "print(livrosNicholasSparks)"
   ]
  }
 ],
 "metadata": {
  "kernelspec": {
   "display_name": "Python 3",
   "language": "python",
   "name": "python3"
  },
  "language_info": {
   "codemirror_mode": {
    "name": "ipython",
    "version": 3
   },
   "file_extension": ".py",
   "mimetype": "text/x-python",
   "name": "python",
   "nbconvert_exporter": "python",
   "pygments_lexer": "ipython3",
   "version": "3.12.4"
  }
 },
 "nbformat": 4,
 "nbformat_minor": 2
}
