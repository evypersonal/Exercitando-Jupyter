{
 "cells": [
  {
   "cell_type": "markdown",
   "metadata": {},
   "source": [
    "# O que é lista em python?\n",
    "\n",
    "No Python podemos construir uma lista utilizando colchetes ([]), essa estrutura é como uma coleção de itens organizada de forma sequencial.\n",
    "Através dela podemos armazenar diversos valores, seja eles 'strings', 'inteiros, 'booleanos', ou 'flutuantes' em uma só variável.\n",
    "As listas são consideradas 'mutável', ou seja, podemos a qualquer momento alterar os seus valores;\n",
    "Também considerada como um dado indexado, ou seja, podemos acessar seus valores através de indices;\n",
    "Seus valores são armazenados em ordem sequencial, além de também possibilitar percorrer cada valor tornando-a 'iterável'.\n",
    "\n",
    "#### ORGANIZADA EM ORDEM SEQUENCIAL ✅\n",
    "#### MUTÁVEL ✅\n",
    "#### INDEXADA ✅\n",
    "#### ITERÁVEL ✅\n"
   ]
  },
  {
   "cell_type": "markdown",
   "metadata": {},
   "source": [
    "## Exemplo de lista \n",
    "\n",
    "`livrosNicholasSparks = [\"O desejo\", \"O retorno\", \"O melhor de mim\",\"O milagre\", \"A última música\", \"A escolha\", \"Um porto seguro\", \"Um homem de sorte\", \"Diario de uma paixão\", \"Noites de tormenta\", \"O guardião\"]`\n",
    "\n",
    "### Imprimindo a lista criada\n",
    "`print(livrosNicholasSparks)`\n",
    "\n",
    "### Imprimindo o tipo 'lista'\n",
    "`print(type(livrosNicholasSparks))`"
   ]
  },
  {
   "cell_type": "code",
   "execution_count": null,
   "metadata": {},
   "outputs": [],
   "source": [
    "livrosNicholasSparks = [\"O desejo\", \"O retorno\", \"O melhor de mim\",\"O milagre\", \"A última música\", \"A escolha\", \"Um porto seguro\", \"Um homem de sorte\", \"Diario de uma paixão\", \"Noites de tormenta\", \"O guardião\"]\n",
    "print(livrosNicholasSparks)\n",
    "print(type(livrosNicholasSparks))"
   ]
  },
  {
   "cell_type": "markdown",
   "metadata": {},
   "source": [
    "## Métodos utilizados em listas"
   ]
  },
  {
   "cell_type": "markdown",
   "metadata": {},
   "source": [
    "### CLEAR\n",
    "#### Utilizamos esse método para limpar todos os itens que possui na lista"
   ]
  },
  {
   "cell_type": "code",
   "execution_count": null,
   "metadata": {},
   "outputs": [],
   "source": [
    "livrosJohnGreen.clear()\n",
    "print(livrosNicholasSparks,livrosJohnGreen)"
   ]
  },
  {
   "cell_type": "markdown",
   "metadata": {},
   "source": [
    "### REVERSE\n",
    "#### Utilizamos esse método para ordenar os itens da lista em ordem decrescente"
   ]
  },
  {
   "cell_type": "code",
   "execution_count": null,
   "metadata": {},
   "outputs": [],
   "source": [
    "livrosNicholasSparks.reverse()\n",
    "print(livrosNicholasSparks)"
   ]
  },
  {
   "cell_type": "markdown",
   "metadata": {},
   "source": [
    "### SORT\n",
    "#### Utilizamos esse método para ordenar os itens da lista em ordem crescente"
   ]
  },
  {
   "cell_type": "code",
   "execution_count": null,
   "metadata": {},
   "outputs": [],
   "source": [
    "livrosNicholasSparks.sort()\n",
    "print(livrosNicholasSparks)"
   ]
  },
  {
   "cell_type": "markdown",
   "metadata": {},
   "source": [
    "### COUNT\n",
    "#### Utilizamos esse método para contar quantas vezes aquele item se repete na lista"
   ]
  },
  {
   "cell_type": "code",
   "execution_count": null,
   "metadata": {},
   "outputs": [],
   "source": [
    "print(livrosNicholasSparks.count(\"O retorno\"))"
   ]
  },
  {
   "cell_type": "markdown",
   "metadata": {},
   "source": [
    "### POP\n",
    "#### Utilizamos esse método para remover um item através de seu indice especificado da lista"
   ]
  },
  {
   "cell_type": "code",
   "execution_count": null,
   "metadata": {},
   "outputs": [],
   "source": [
    "livrosNicholasSparks.pop(0)\n",
    "print(livrosNicholasSparks)"
   ]
  },
  {
   "cell_type": "markdown",
   "metadata": {},
   "source": [
    "### REMOVE\n",
    "#### Utilizamos esse método para remover o item que foi especificado da lista"
   ]
  },
  {
   "cell_type": "code",
   "execution_count": null,
   "metadata": {},
   "outputs": [],
   "source": [
    "livrosNicholasSparks.remove(\"A bailarina de Auschwitz\")\n",
    "print(livrosNicholasSparks)"
   ]
  },
  {
   "cell_type": "markdown",
   "metadata": {},
   "source": [
    "### INSERT\n",
    "#### Utilizamos esse método para adicionar um item à lista, porém em uma posição especificada"
   ]
  },
  {
   "cell_type": "code",
   "execution_count": null,
   "metadata": {},
   "outputs": [],
   "source": [
    "livrosNicholasSparks.insert(0, \"A bailarina de Auschwitz\")\n",
    "print(livrosNicholasSparks)"
   ]
  },
  {
   "cell_type": "markdown",
   "metadata": {},
   "source": [
    "### APPEND\n",
    "#### Utilizamos esse método para adicionar um item à última posição da lista "
   ]
  },
  {
   "cell_type": "code",
   "execution_count": null,
   "metadata": {},
   "outputs": [],
   "source": [
    "livrosNicholasSparks.append(\"Um amor para recordar\")\n",
    "print(livrosNicholasSparks)"
   ]
  },
  {
   "cell_type": "markdown",
   "metadata": {},
   "source": [
    "### EXTEND\n",
    "#### Utilizamos esse método para juntar uma lista ao final da outra lista"
   ]
  },
  {
   "cell_type": "code",
   "execution_count": 4,
   "metadata": {},
   "outputs": [
    {
     "name": "stdout",
     "output_type": "stream",
     "text": [
      "['O desejo', 'O retorno', 'O melhor de mim', 'O milagre', 'A última música', 'A escolha', 'Um porto seguro', 'Um homem de sorte', 'Diario de uma paixão', 'Noites de tormenta', 'O guardião', 'Um amor para recordar', 'A culpa é das estrelas', 'Quem é voce Alasca?', 'Will & Will', 'A culpa é das estrelas', 'Quem é voce Alasca?', 'Will & Will']\n"
     ]
    }
   ],
   "source": [
    "livrosJohnGreen = [\"A culpa é das estrelas\", \"Quem é voce Alasca?\", \"Will & Will\"]\n",
    "livrosNicholasSparks.extend(livrosJohnGreen)\n",
    "print(livrosNicholasSparks)"
   ]
  }
 ],
 "metadata": {
  "kernelspec": {
   "display_name": "Python 3",
   "language": "python",
   "name": "python3"
  },
  "language_info": {
   "codemirror_mode": {
    "name": "ipython",
    "version": 3
   },
   "file_extension": ".py",
   "mimetype": "text/x-python",
   "name": "python",
   "nbconvert_exporter": "python",
   "pygments_lexer": "ipython3",
   "version": "3.12.4"
  }
 },
 "nbformat": 4,
 "nbformat_minor": 2
}
