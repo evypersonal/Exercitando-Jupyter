{
 "cells": [
  {
   "cell_type": "markdown",
   "metadata": {},
   "source": [
    "# O que é tupla em python?\n",
    "\n",
    "No Python podemos criar tuplas, que é uma estrutura de dados que armazena valores em uma lista, mas não pode ser alterada, ou seja, não é possível adicionar ou remover elementos de uma tupla. \n",
    "Ela é imutável. Porém, é possível criar uma nova tupla com os elementos da outra, e são definidas por (()) parênteses.\n",
    "\n",
    "#### ORGANIZADA EM ORDEM SEQUENCIAL ✅\n",
    "#### MUTÁVEL ❌\n",
    "#### INDEXADA ✅\n",
    "#### ITERÁVEL ✅"
   ]
  },
  {
   "cell_type": "markdown",
   "metadata": {},
   "source": [
    "## Exemplo de tupla\n",
    "\n",
    "`livrosNicholasSparks = (\"O desejo\", \"O retorno\", \"O melhor de mim\",\"O milagre\", \"A última música\", \"A escolha\", \"Um porto seguro\", \"Um homem de sorte\", \"Diario de uma paixão\", \"Noites de tormenta\", \"O guardião\",\"O milagre\")`\n",
    "\n",
    "### Imprimindo a tupla criada\n",
    "`print(livrosNicholasSparks)`\n",
    "\n",
    "### Imprimindo o tipo 'tupla'\n",
    "`print(type(livrosNicholasSparks))`"
   ]
  },
  {
   "cell_type": "code",
   "execution_count": 1,
   "metadata": {},
   "outputs": [
    {
     "name": "stdout",
     "output_type": "stream",
     "text": [
      "('O desejo', 'O retorno', 'O melhor de mim', 'O milagre', 'A última música', 'A escolha', 'Um porto seguro', 'Um homem de sorte', 'Diario de uma paixão', 'Noites de tormenta', 'O guardião', 'O milagre')\n",
      "<class 'tuple'>\n"
     ]
    }
   ],
   "source": [
    "livrosNicholasSparks = (\"O desejo\", \"O retorno\", \"O melhor de mim\",\"O milagre\", \"A última música\", \"A escolha\", \"Um porto seguro\", \"Um homem de sorte\", \"Diario de uma paixão\", \"Noites de tormenta\", \"O guardião\",\"O milagre\")\n",
    "\n",
    "print(livrosNicholasSparks)\n",
    "print(type(livrosNicholasSparks))"
   ]
  },
  {
   "cell_type": "markdown",
   "metadata": {},
   "source": [
    "## Funções utilizadas nas tuplas"
   ]
  },
  {
   "cell_type": "markdown",
   "metadata": {},
   "source": [
    "### SORTED()\n",
    "#### Utilizamos essa função para retornar a tupla de forma ordenada"
   ]
  },
  {
   "cell_type": "code",
   "execution_count": null,
   "metadata": {},
   "outputs": [],
   "source": [
    "print(sorted(livrosNicholasSparks))"
   ]
  },
  {
   "cell_type": "markdown",
   "metadata": {},
   "source": [
    "### SUM()\n",
    "#### Utilizamos essa função para somar os valores de todos os itens da tupla. (Utilizado quando a tupla possui valores 'int' ou 'float')\n"
   ]
  },
  {
   "cell_type": "code",
   "execution_count": null,
   "metadata": {},
   "outputs": [],
   "source": [
    "tupla_number = (1, 2, 3, 4, 5.5)\n",
    "print(sum(tupla_number))"
   ]
  },
  {
   "cell_type": "markdown",
   "metadata": {},
   "source": [
    "### MIN()\n",
    "#### Utilizamos essa função para retornar o item de menor valor da tupla\n"
   ]
  },
  {
   "cell_type": "code",
   "execution_count": null,
   "metadata": {},
   "outputs": [],
   "source": [
    "print(min(livrosNicholasSparks))\n"
   ]
  },
  {
   "cell_type": "markdown",
   "metadata": {},
   "source": [
    "### MAX()\n",
    "#### Utilizamos essa função para retornar o item de maior valor da tupla\n"
   ]
  },
  {
   "cell_type": "code",
   "execution_count": null,
   "metadata": {},
   "outputs": [],
   "source": [
    "print(max(livrosNicholasSparks))\n"
   ]
  },
  {
   "cell_type": "markdown",
   "metadata": {},
   "source": [
    "### LEN()\n",
    "#### Utilizamos essa função para contar a quantidade de itens possui a tupla\n"
   ]
  },
  {
   "cell_type": "code",
   "execution_count": null,
   "metadata": {},
   "outputs": [],
   "source": [
    "print(len(livrosNicholasSparks))"
   ]
  },
  {
   "cell_type": "markdown",
   "metadata": {},
   "source": [
    "## Métodos utilizados nas tuplas"
   ]
  },
  {
   "cell_type": "markdown",
   "metadata": {},
   "source": [
    "### INDEX\n",
    "#### Utilizamos esse método para indicar o indice em que o item se localiza na tupla"
   ]
  },
  {
   "cell_type": "code",
   "execution_count": null,
   "metadata": {},
   "outputs": [],
   "source": [
    "print(livrosNicholasSparks.index(\"Noites de tormenta\"))\n"
   ]
  },
  {
   "cell_type": "markdown",
   "metadata": {},
   "source": [
    "### COUNT\n",
    "#### Utilizamos esse método para contar a quantidade de vezes em que o item especificado se repete na tupla"
   ]
  },
  {
   "cell_type": "code",
   "execution_count": null,
   "metadata": {},
   "outputs": [],
   "source": [
    "print(livrosNicholasSparks.count(\"O milagre\"))"
   ]
  }
 ],
 "metadata": {
  "kernelspec": {
   "display_name": "Python 3",
   "language": "python",
   "name": "python3"
  },
  "language_info": {
   "codemirror_mode": {
    "name": "ipython",
    "version": 3
   },
   "file_extension": ".py",
   "mimetype": "text/x-python",
   "name": "python",
   "nbconvert_exporter": "python",
   "pygments_lexer": "ipython3",
   "version": "3.12.4"
  }
 },
 "nbformat": 4,
 "nbformat_minor": 2
}
