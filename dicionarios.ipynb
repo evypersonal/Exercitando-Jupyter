{
 "cells": [
  {
   "cell_type": "markdown",
   "metadata": {},
   "source": [
    "# O que é dicionário em python?\n",
    "\n",
    "No Python podemos construir dicionários utilizando colchetes ({}), essa estrutura é composta por chaves, seguido de ':' dois pontos, e o seu valor associado.\n",
    "\n",
    "#### ORGANIZADA EM ORDEM SEQUENCIAL ✅\n",
    "#### MUTÁVEL ✅\n",
    "#### INDEXADO ✅\n",
    "#### ITERÁVEL ✅\n"
   ]
  },
  {
   "cell_type": "markdown",
   "metadata": {},
   "source": [
    "## Exemplo de dicionário\n",
    "\n",
    "`livrosNicholasSparks = {\n",
    "    \"Nome\": \"O desejo\",\n",
    "    \"Autor\": \"Nicholas Sparks\",\n",
    "    \"Ano\": 2004,\n",
    "    \"Genero\": \"Romance\",\n",
    "    \"Editora\": \"Editora Record\"\n",
    "}`\n",
    "\n",
    "### Imprimindo o dicionário criado\n",
    "`print(livrosNicholasSparks)`\n",
    "\n",
    "### Imprimindo o tipo 'dicionário'\n",
    "`print(type(livrosNicholasSparks))`"
   ]
  },
  {
   "cell_type": "code",
   "execution_count": null,
   "metadata": {},
   "outputs": [],
   "source": [
    "livrosNicholasSparks = {\n",
    "    \"Nome\": \"O desejo\",\n",
    "    \"Autor\": \"Nicholas Sparks\",\n",
    "    \"Ano\": 2004,\n",
    "    \"Genero\": \"Romance\",\n",
    "    \"Editora\": \"Editora Record\"\n",
    "}\n",
    "\n",
    "print(livrosNicholasSparks)\n",
    "print(type(livrosNicholasSparks))"
   ]
  },
  {
   "cell_type": "markdown",
   "metadata": {},
   "source": [
    "## Métodos utilizados em dicionários"
   ]
  },
  {
   "cell_type": "markdown",
   "metadata": {},
   "source": [
    "### FROMKEYS\n",
    "#### Utilizando o método fromkeys para criar um novo dicionario, através do fromkeys é possivel atribuir um valor à uma variável e atribuir essa variavel como valor de todas as chaves que contém o dicionário criado a partir do dicionario inicial."
   ]
  },
  {
   "cell_type": "code",
   "execution_count": null,
   "metadata": {},
   "outputs": [],
   "source": [
    "sobre_autor = [\"nome\", \"idade\", \"cidade\"]\n",
    "\n",
    "valor_teste = \"a pesquisar\"\n",
    "\n",
    "new_dict = livrosNicholasSparks.fromkeys(sobre_autor, valor_teste)\n",
    "print(new_dict)"
   ]
  },
  {
   "cell_type": "markdown",
   "metadata": {},
   "source": [
    "### CLEAR\n",
    "#### Utilizamos esse método para apagar todas as chaves e valores que contém o dicionário informado"
   ]
  },
  {
   "cell_type": "code",
   "execution_count": null,
   "metadata": {},
   "outputs": [],
   "source": [
    "livrosNicholasSparks.clear()\n",
    "print(livrosNicholasSparks)"
   ]
  },
  {
   "cell_type": "markdown",
   "metadata": {},
   "source": [
    "### SETDEFAULT\n",
    "#### Utilizamos esse método para consultar o valor que contém na chave especificada e armazenar em uma variável"
   ]
  },
  {
   "cell_type": "code",
   "execution_count": null,
   "metadata": {},
   "outputs": [],
   "source": [
    "opcao = livrosNicholasSparks.setdefault(\"Genero\")\n",
    "print(opcao)"
   ]
  },
  {
   "cell_type": "markdown",
   "metadata": {},
   "source": [
    "### GET\n",
    "#### Utilizamos esse método para imprimir um valor de uma chave existente, caso não exista a chave fornecida, ele retornará 'NONE'"
   ]
  },
  {
   "cell_type": "code",
   "execution_count": 3,
   "metadata": {},
   "outputs": [
    {
     "name": "stdout",
     "output_type": "stream",
     "text": [
      "O desejo None\n"
     ]
    }
   ],
   "source": [
    "nome = livrosNicholasSparks.get(\"Nome\")\n",
    "revista = livrosNicholasSparks.get(\"Revista\")\n",
    "print(nome, revista)"
   ]
  },
  {
   "cell_type": "markdown",
   "metadata": {},
   "source": [
    "### POPITEM\n",
    "#### Utilizamos esse método para remover o último item do dicionário"
   ]
  },
  {
   "cell_type": "code",
   "execution_count": null,
   "metadata": {},
   "outputs": [],
   "source": [
    "livrosNicholasSparks.popitem()\n",
    "print(livrosNicholasSparks)"
   ]
  },
  {
   "cell_type": "markdown",
   "metadata": {},
   "source": [
    "### POP\n",
    "#### Utilizamos esse método para remover itens selecionados do dicionário"
   ]
  },
  {
   "cell_type": "code",
   "execution_count": null,
   "metadata": {},
   "outputs": [],
   "source": [
    "livrosNicholasSparks.pop(\"Nome\")\n",
    "print(livrosNicholasSparks)"
   ]
  },
  {
   "cell_type": "markdown",
   "metadata": {},
   "source": [
    "### VALUES\n",
    "#### Utilizamos esse método para imprimir somente os valores que contém nas chaves do dicionário"
   ]
  },
  {
   "cell_type": "code",
   "execution_count": null,
   "metadata": {},
   "outputs": [],
   "source": [
    "valores = livrosNicholasSparks.values()\n",
    "print(valores)"
   ]
  },
  {
   "cell_type": "markdown",
   "metadata": {},
   "source": [
    "### KEYS\n",
    "#### Utilizamos esse método para imprimir somente as chaves que contém no dicionário"
   ]
  },
  {
   "cell_type": "code",
   "execution_count": null,
   "metadata": {},
   "outputs": [],
   "source": [
    "chaves = livrosNicholasSparks.keys()\n",
    "print(chaves)"
   ]
  },
  {
   "cell_type": "markdown",
   "metadata": {},
   "source": [
    "### ITEMS\n",
    "#### Podemos utilizar esse método para imprimir o dicionário, tanto as chaves como seus valores atribuidos"
   ]
  },
  {
   "cell_type": "code",
   "execution_count": null,
   "metadata": {},
   "outputs": [],
   "source": [
    "itens = livrosNicholasSparks.items()\n",
    "print(itens)"
   ]
  },
  {
   "cell_type": "markdown",
   "metadata": {},
   "source": [
    "### SETDEFAULT\n",
    "#### Utilizamos esse método também para adicionar um item e seu valor ao dicionário"
   ]
  },
  {
   "cell_type": "code",
   "execution_count": null,
   "metadata": {},
   "outputs": [],
   "source": [
    "comentario = livrosNicholasSparks.setdefault(\"Comentário\", \"Muito Bom\")\n",
    "print(comentario)"
   ]
  },
  {
   "cell_type": "markdown",
   "metadata": {},
   "source": [
    "### UPDATE\n",
    "#### Utilizamos esse método para adicionar um item e seu valor ao dicionário"
   ]
  },
  {
   "cell_type": "code",
   "execution_count": null,
   "metadata": {},
   "outputs": [],
   "source": [
    "livrosNicholasSparks.update({\"classificacao\" : 4})\n",
    "print(livrosNicholasSparks)\n"
   ]
  },
  {
   "cell_type": "markdown",
   "metadata": {},
   "source": [
    "#### Podemos também atualizar um valor"
   ]
  },
  {
   "cell_type": "code",
   "execution_count": null,
   "metadata": {},
   "outputs": [],
   "source": [
    "livrosNicholasSparks[\"Editora\"] = \"intríseca\"\n",
    "print(livrosNicholasSparks)"
   ]
  }
 ],
 "metadata": {
  "kernelspec": {
   "display_name": "Python 3",
   "language": "python",
   "name": "python3"
  },
  "language_info": {
   "codemirror_mode": {
    "name": "ipython",
    "version": 3
   },
   "file_extension": ".py",
   "mimetype": "text/x-python",
   "name": "python",
   "nbconvert_exporter": "python",
   "pygments_lexer": "ipython3",
   "version": "3.12.4"
  }
 },
 "nbformat": 4,
 "nbformat_minor": 2
}
